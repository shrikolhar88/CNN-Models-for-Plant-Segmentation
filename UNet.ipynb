{
  "nbformat": 4,
  "nbformat_minor": 0,
  "metadata": {
    "accelerator": "GPU",
    "colab": {
      "name": "UNet.ipynb",
      "provenance": [],
      "collapsed_sections": []
    },
    "kernelspec": {
      "display_name": "Python 3",
      "name": "python3"
    }
  },
  "cells": [
    {
      "cell_type": "code",
      "metadata": {
        "colab": {
          "base_uri": "https://localhost:8080/"
        },
        "id": "OOx9sjz0Dvqg",
        "outputId": "ba480483-051a-4878-871a-ce02cab89b17"
      },
      "source": [
        "from google.colab import drive\n",
        "drive.mount('/content/drive')"
      ],
      "execution_count": null,
      "outputs": [
        {
          "output_type": "stream",
          "name": "stdout",
          "text": [
            "Mounted at /content/drive\n"
          ]
        }
      ]
    },
    {
      "cell_type": "code",
      "metadata": {
        "id": "IAxk3MoaTMzX"
      },
      "source": [
        "import os\n",
        "import sys\n",
        "import random\n",
        "import warnings\n",
        "import numpy as np\n",
        "import pandas as pd\n",
        "import matplotlib.pyplot as plt\n",
        "from tqdm import tqdm\n",
        "from itertools import chain\n",
        "from skimage.io import imread, imshow, imread_collection, concatenate_images\n",
        "from skimage.transform import resize\n",
        "IMG_HEIGHT = 448\n",
        "IMG_WIDTH = 448\n",
        "IMG_CHANNELS = 3\n",
        "\n",
        "warnings.filterwarnings('ignore', category=UserWarning, module='skimage')\n",
        "\n",
        "seed = 42"
      ],
      "execution_count": null,
      "outputs": []
    },
    {
      "cell_type": "code",
      "metadata": {
        "id": "HyFBoAQKTSsR"
      },
      "source": [
        "train_frame_path = '/content/drive/MyDrive/LeafSeg/train_frames/'\n",
        "train_mask_path = '/content/drive/MyDrive/LeafSeg/train_masks/'\n",
        "\n",
        "val_frame_path = '/content/drive/MyDrive/LeafSeg/val_frames/'\n",
        "val_mask_path = '/content/drive/MyDrive/LeafSeg/val_masks/'"
      ],
      "execution_count": null,
      "outputs": []
    },
    {
      "cell_type": "code",
      "metadata": {
        "id": "cz6L9RtTTVJF"
      },
      "source": [
        "train_frame_ids = os.listdir(train_frame_path)\n",
        "train_mask_ids = os.listdir(train_mask_path)\n",
        "\n",
        "train_frame_ids=sorted(train_frame_ids)\n",
        "train_mask_ids=sorted(train_mask_ids)  \n",
        "\n",
        "X_train = np.zeros((len(train_frame_ids), IMG_HEIGHT, IMG_WIDTH, IMG_CHANNELS), dtype=np.float32)\n",
        "sizes_train = []\n",
        "print('Getting and resizing test images ... ')\n",
        "sys.stdout.flush()\n",
        "for n, id_ in tqdm(enumerate(train_frame_ids), total=len(train_frame_ids)):\n",
        "    path = train_frame_path + id_\n",
        "    img = ((imread(path))/255)[:,:,:IMG_CHANNELS]\n",
        "    sizes_train.append([img.shape[0], img.shape[1]])\n",
        "    img = resize(img, (IMG_HEIGHT, IMG_WIDTH), mode='constant', preserve_range=True)\n",
        "    X_train[n] = img\n",
        "\n",
        "print('Done!')\n",
        "print(train_frame_ids)\n",
        "\n",
        "Y_train = np.zeros((len(train_mask_ids), IMG_HEIGHT, IMG_WIDTH, 1), dtype=np.float32)\n",
        "sizes_trainmasks = []\n",
        "print('Getting and resizing test images ... ')\n",
        "sys.stdout.flush()\n",
        "for n, id_ in tqdm(enumerate(train_mask_ids), total=len(train_mask_ids)):\n",
        "    path = train_mask_path + id_\n",
        "    img = (imread(path))/255\n",
        "    sizes_trainmasks.append([img.shape[0], img.shape[1]])\n",
        "    img = np.expand_dims(resize(img, (IMG_HEIGHT, IMG_WIDTH), mode='constant', preserve_range=True),axis=-1)\n",
        "    Y_train[n] = img\n",
        "\n",
        "print('Done!')\n",
        "print(train_mask_ids)"
      ],
      "execution_count": null,
      "outputs": []
    },
    {
      "cell_type": "code",
      "metadata": {
        "id": "hnia-VLuUDjr"
      },
      "source": [
        "from matplotlib import pyplot as plt\n",
        "%matplotlib inline\n",
        "\n",
        "img=X_train[50,:,:,:]\n",
        "imshow(img)\n",
        "plt.show()\n",
        "X_train.shape"
      ],
      "execution_count": null,
      "outputs": []
    },
    {
      "cell_type": "code",
      "metadata": {
        "id": "Do6uHqg-UG6Z"
      },
      "source": [
        "val_frame_ids = os.listdir(val_frame_path)\n",
        "val_mask_ids = os.listdir(val_mask_path)\n",
        "\n",
        "val_frame_ids=sorted(val_frame_ids)\n",
        "val_mask_ids=sorted(val_mask_ids)  \n",
        "\n",
        "X_val = np.zeros((len(val_frame_ids), IMG_HEIGHT, IMG_WIDTH, IMG_CHANNELS), dtype=np.float32)\n",
        "sizes_val = []\n",
        "print('Getting and resizing test images ... ')\n",
        "sys.stdout.flush()\n",
        "for n, id_ in tqdm(enumerate(val_frame_ids), total=len(val_frame_ids)):\n",
        "    path = val_frame_path + id_\n",
        "    img = ((imread(path))/255)[:,:,:IMG_CHANNELS]\n",
        "    sizes_val.append([img.shape[0], img.shape[1]])\n",
        "    img = resize(img, (IMG_HEIGHT, IMG_WIDTH), mode='constant', preserve_range=True)\n",
        "    X_val[n] = img\n",
        "\n",
        "print('Done!')\n",
        "print(val_frame_ids)\n",
        "\n",
        "Y_val = np.zeros((len(val_mask_ids), IMG_HEIGHT, IMG_WIDTH, 1), dtype=np.float32)\n",
        "sizes_valmasks = []\n",
        "print('Getting and resizing test images ... ')\n",
        "sys.stdout.flush()\n",
        "for n, id_ in tqdm(enumerate(val_mask_ids), total=len(val_mask_ids)):\n",
        "    path = val_mask_path + id_\n",
        "    img = (imread(path))/255\n",
        "    sizes_valmasks.append([img.shape[0], img.shape[1]])\n",
        "    img = np.expand_dims(resize(img, (IMG_HEIGHT, IMG_WIDTH), mode='constant', preserve_range=True),axis=-1)\n",
        "    Y_val[n] = img\n",
        "\n",
        "print('Done!')\n",
        "print(val_mask_ids)"
      ],
      "execution_count": null,
      "outputs": []
    },
    {
      "cell_type": "code",
      "metadata": {
        "id": "MnIOpFCnUKtk"
      },
      "source": [
        "test_frame_path = '/content/drive/My Drive/LeafSeg/test_frames/'\n",
        "test_mask_path = '/content/drive/My Drive/LeafSeg/test_masks/'\n",
        "\n",
        "\n",
        "test_frame_ids = os.listdir(test_frame_path)\n",
        "test_mask_ids = os.listdir(test_mask_path)\n",
        "\n",
        "test_frame_ids=sorted(test_frame_ids)\n",
        "test_mask_ids=sorted(test_mask_ids)  \n",
        "\n",
        "X_test = np.zeros((len(test_frame_ids), IMG_HEIGHT, IMG_WIDTH, IMG_CHANNELS), dtype=np.float32)\n",
        "sizes_test = []\n",
        "print('Getting and resizing test images ... ')\n",
        "sys.stdout.flush()\n",
        "for n, id_ in tqdm(enumerate(test_frame_ids), total=len(test_frame_ids)):\n",
        "    path = test_frame_path + id_\n",
        "    img = ((imread(path))/255)[:,:,:IMG_CHANNELS]\n",
        "    sizes_test.append([img.shape[0], img.shape[1]])\n",
        "    img = resize(img, (IMG_HEIGHT, IMG_WIDTH), mode='constant', preserve_range=True)\n",
        "    X_test[n] = img\n",
        "\n",
        "print('Done!')\n",
        "print(test_frame_ids)\n",
        "\n",
        "Y_test = np.zeros((len(test_mask_ids), IMG_HEIGHT, IMG_WIDTH, 1), dtype=np.float32)\n",
        "sizes_testmasks = []\n",
        "print('Getting and resizing test images ... ')\n",
        "sys.stdout.flush()\n",
        "for n, id_ in tqdm(enumerate(test_mask_ids), total=len(test_mask_ids)):\n",
        "    path = test_mask_path + id_\n",
        "    img = (imread(path))/255\n",
        "    sizes_testmasks.append([img.shape[0], img.shape[1]])\n",
        "    img = np.expand_dims(resize(img, (IMG_HEIGHT, IMG_WIDTH), mode='constant', preserve_range=True),axis=-1)\n",
        "    Y_test[n] = img\n",
        "\n",
        "print('Done!')\n",
        "print(test_mask_ids)"
      ],
      "execution_count": null,
      "outputs": []
    },
    {
      "cell_type": "code",
      "metadata": {
        "id": "B7Na2lErkyoE"
      },
      "source": [
        "smooth = 1.\n",
        "\n",
        "def dice_coef(y_true, y_pred):\n",
        "    y_true_f = K.flatten(y_true)\n",
        "    y_pred_f = K.flatten(y_pred)\n",
        "    intersection = K.sum(y_true_f * y_pred_f)\n",
        "    return (2. * intersection + smooth) / (K.sum(y_true_f) + K.sum(y_pred_f) + smooth)\n",
        "    \n",
        "\n",
        "def dice_coef_loss(y_true, y_pred):\n",
        "    return -dice_coef(y_true, y_pred)"
      ],
      "execution_count": null,
      "outputs": []
    },
    {
      "cell_type": "code",
      "metadata": {
        "id": "8shH9FacVAe4"
      },
      "source": [
        "from keras.preprocessing import image\n",
        "BATCH_SIZE = 8 # the higher the better\n",
        "# Creating the training Image and Mask generator\n",
        "image_datagen = image.ImageDataGenerator(shear_range=0.5, rotation_range=50, zoom_range=0.2, width_shift_range=0.2, height_shift_range=0.2, fill_mode='reflect', horizontal_flip=True, vertical_flip = True)\n",
        "mask_datagen = image.ImageDataGenerator(shear_range=0.5, rotation_range=50, zoom_range=0.2, width_shift_range=0.2, height_shift_range=0.2, fill_mode='reflect', horizontal_flip=True, vertical_flip = True)\n",
        "\n",
        "# Keep the same seed for image and mask generators so they fit together\n",
        "\n",
        "image_datagen.fit(X_train[:int(X_train.shape[0]*0.9)], augment=True, seed=seed)\n",
        "mask_datagen.fit(Y_train[:int(Y_train.shape[0]*0.9)], augment=True, seed=seed)\n",
        "\n",
        "x=image_datagen.flow(X_train[:int(X_train.shape[0]*0.9)],batch_size=BATCH_SIZE,shuffle=True, seed=seed)\n",
        "y=mask_datagen.flow(Y_train[:int(Y_train.shape[0]*0.9)],batch_size=BATCH_SIZE,shuffle=True, seed=seed)\n",
        "\n",
        "\n",
        "\n",
        "# Creating the validation Image and Mask generator\n",
        "image_datagen_val = image.ImageDataGenerator()\n",
        "mask_datagen_val = image.ImageDataGenerator()\n",
        "\n",
        "image_datagen_val.fit(X_val[int(X_val.shape[0]*0.9):], augment=True, seed=seed)\n",
        "mask_datagen_val.fit(Y_val[int(Y_val.shape[0]*0.9):], augment=True, seed=seed)\n",
        "\n",
        "\n",
        "x_val=image_datagen_val.flow(X_val[int(X_val.shape[0]*0.9):],batch_size=BATCH_SIZE,shuffle=True, seed=seed)\n",
        "y_val=mask_datagen_val.flow(Y_val[int(Y_val.shape[0]*0.9):],batch_size=BATCH_SIZE,shuffle=True, seed=seed)"
      ],
      "execution_count": null,
      "outputs": []
    },
    {
      "cell_type": "code",
      "metadata": {
        "id": "X3AxXxQkVEeo"
      },
      "source": [
        "from matplotlib import pyplot as plt\n",
        "%matplotlib inline\n",
        "\n",
        "imshow(x.next()[0])\n",
        "plt.show()\n",
        "imshow(np.squeeze(y.next()[0]))\n",
        "plt.show()\n",
        "\n"
      ],
      "execution_count": null,
      "outputs": []
    },
    {
      "cell_type": "code",
      "metadata": {
        "id": "NA2WpdbuXnuI"
      },
      "source": [
        "train_generator = zip(x, y)\n",
        "val_generator = zip(x_val, y_val)"
      ],
      "execution_count": null,
      "outputs": []
    },
    {
      "cell_type": "code",
      "metadata": {
        "id": "62vTwJF6NQ0h"
      },
      "source": [
        "import numpy as np \n",
        "import os\n",
        "import skimage.io as io\n",
        "import skimage.transform as trans\n",
        "import numpy as np\n",
        "\n",
        "from keras.models import *\n",
        "from keras.layers import *\n",
        "from keras.optimizers import *\n",
        "from keras.callbacks import ModelCheckpoint, LearningRateScheduler\n",
        "from keras import backend as keras\n",
        "from keras.utils.vis_utils import plot_model\n",
        "\n",
        "IMG_HEIGHT = 416\n",
        "IMG_WIDTH = 416\n",
        "IMG_CHANNELS = 3\n",
        "inputs = Input((IMG_HEIGHT, IMG_WIDTH, IMG_CHANNELS))\n",
        "\n",
        "conv1 = Conv2D(64, 3, activation = 'relu', padding = 'same', kernel_initializer = 'he_normal')(inputs)\n",
        "conv1 = Conv2D(64, 3, activation = 'relu', padding = 'same', kernel_initializer = 'he_normal')(conv1)\n",
        "pool1 = MaxPooling2D(pool_size=(2, 2))(conv1)\n",
        "conv2 = Conv2D(128, 3, activation = 'relu', padding = 'same', kernel_initializer = 'he_normal')(pool1)\n",
        "conv2 = Conv2D(128, 3, activation = 'relu', padding = 'same', kernel_initializer = 'he_normal')(conv2)\n",
        "pool2 = MaxPooling2D(pool_size=(2, 2))(conv2)\n",
        "conv3 = Conv2D(256, 3, activation = 'relu', padding = 'same', kernel_initializer = 'he_normal')(pool2)\n",
        "conv3 = Conv2D(256, 3, activation = 'relu', padding = 'same', kernel_initializer = 'he_normal')(conv3)\n",
        "pool3 = MaxPooling2D(pool_size=(2, 2))(conv3)\n",
        "conv4 = Conv2D(512, 3, activation = 'relu', padding = 'same', kernel_initializer = 'he_normal')(pool3)\n",
        "conv4 = Conv2D(512, 3, activation = 'relu', padding = 'same', kernel_initializer = 'he_normal')(conv4)\n",
        "drop4 = Dropout(0.5)(conv4)\n",
        "pool4 = MaxPooling2D(pool_size=(2, 2))(drop4)\n",
        "\n",
        "conv5 = Conv2D(1024, 3, activation = 'relu', padding = 'same', kernel_initializer = 'he_normal')(pool4)\n",
        "conv5 = Conv2D(1024, 3, activation = 'relu', padding = 'same', kernel_initializer = 'he_normal')(conv5)\n",
        "drop5 = Dropout(0.5)(conv5)\n",
        "\n",
        "up6 = Conv2D(512, 2, activation = 'relu', padding = 'same', kernel_initializer = 'he_normal')(UpSampling2D(size = (2,2))(drop5))\n",
        "merge6 = concatenate([drop4,up6], axis = 3)\n",
        "conv6 = Conv2D(512, 3, activation = 'relu', padding = 'same', kernel_initializer = 'he_normal')(merge6)\n",
        "conv6 = Conv2D(512, 3, activation = 'relu', padding = 'same', kernel_initializer = 'he_normal')(conv6)\n",
        "\n",
        "up7 = Conv2D(256, 2, activation = 'relu', padding = 'same', kernel_initializer = 'he_normal')(UpSampling2D(size = (2,2))(conv6))\n",
        "merge7 = concatenate([conv3,up7], axis = 3)\n",
        "conv7 = Conv2D(256, 3, activation = 'relu', padding = 'same', kernel_initializer = 'he_normal')(merge7)\n",
        "conv7 = Conv2D(256, 3, activation = 'relu', padding = 'same', kernel_initializer = 'he_normal')(conv7)\n",
        "\n",
        "up8 = Conv2D(128, 2, activation = 'relu', padding = 'same', kernel_initializer = 'he_normal')(UpSampling2D(size = (2,2))(conv7))\n",
        "merge8 = concatenate([conv2,up8], axis = 3)\n",
        "conv8 = Conv2D(128, 3, activation = 'relu', padding = 'same', kernel_initializer = 'he_normal')(merge8)\n",
        "conv8 = Conv2D(128, 3, activation = 'relu', padding = 'same', kernel_initializer = 'he_normal')(conv8)\n",
        "\n",
        "up9 = Conv2D(64, 2, activation = 'relu', padding = 'same', kernel_initializer = 'he_normal')(UpSampling2D(size = (2,2))(conv8))\n",
        "merge9 = concatenate([conv1,up9], axis = 3)\n",
        "conv9 = Conv2D(64, 3, activation = 'relu', padding = 'same', kernel_initializer = 'he_normal')(merge9)\n",
        "conv9 = Conv2D(64, 3, activation = 'relu', padding = 'same', kernel_initializer = 'he_normal')(conv9)\n",
        "conv9 = Conv2D(2, 3, activation = 'relu', padding = 'same', kernel_initializer = 'he_normal')(conv9)\n",
        "conv10 = Conv2D(1, 1, activation = 'sigmoid')(conv9)\n",
        "\n",
        "model = Model(inputs, conv10)\n",
        "\n",
        "model.summary()\n",
        "plot_model(model, to_file='model_plot.png', show_shapes=True, show_layer_names=True)\n"
      ],
      "execution_count": null,
      "outputs": []
    },
    {
      "cell_type": "code",
      "metadata": {
        "id": "mwLQ0iC8RkqD"
      },
      "source": [
        "input_shape=(416,416,3)"
      ],
      "execution_count": null,
      "outputs": []
    },
    {
      "cell_type": "code",
      "metadata": {
        "id": "hYAbY-lINXWW"
      },
      "source": [
        "from keras.utils.vis_utils import plot_model\n",
        "model=build_res_unet(input_shape)\n",
        "model.summary()\n",
        "plot_model(model, to_file='model_plot.png', show_shapes=True, show_layer_names=True)"
      ],
      "execution_count": null,
      "outputs": []
    },
    {
      "cell_type": "code",
      "metadata": {
        "id": "1wGMhJcuxBzx"
      },
      "source": [
        "from keras import backend as K\n",
        "\n",
        "def mcor(y_true, y_pred):\n",
        "  #matthews_correlation\n",
        "  y_pred_pos = K.round(K.clip(y_pred, 0, 1))\n",
        "  y_pred_neg = 1 - y_pred_pos\n",
        " \n",
        " \n",
        "  y_pos = K.round(K.clip(y_true, 0, 1))\n",
        "  y_neg = 1 - y_pos\n",
        " \n",
        " \n",
        "  tp = K.sum(y_pos * y_pred_pos)\n",
        "  tn = K.sum(y_neg * y_pred_neg)\n",
        " \n",
        " \n",
        "  fp = K.sum(y_neg * y_pred_pos)\n",
        "  fn = K.sum(y_pos * y_pred_neg)\n",
        " \n",
        " \n",
        "  numerator = (tp * tn - fp * fn)\n",
        "  denominator = K.sqrt((tp + fp) * (tp + fn) * (tn + fp) * (tn + fn))\n",
        " \n",
        " \n",
        "  return numerator / (denominator + K.epsilon())\n",
        "\n",
        "def specificity(y_true, y_pred):\n",
        "    tn = K.sum(K.round(K.clip((1 - y_true) * (1 - y_pred), 0, 1)))\n",
        "    fp = K.sum(K.round(K.clip((1 - y_true) * y_pred, 0, 1)))\n",
        "    return tn / (tn + fp + K.epsilon())\n",
        "\n",
        "\n",
        "def negative_predictive_value(y_true, y_pred):\n",
        "    tn = K.sum(K.round(K.clip((1 - y_true) * (1 - y_pred), 0, 1)))\n",
        "    fn = K.sum(K.round(K.clip(y_true * (1 - y_pred), 0, 1)))\n",
        "    return tn / (tn + fn + K.epsilon())\n",
        "\n",
        "def iou(y_true, y_pred, smooth = 1):\n",
        "    intersection = K.sum(K.abs(y_true * y_pred), axis=-1)\n",
        "    sum_ = K.sum(K.square(y_true), axis = -1) + K.sum(K.square(y_pred), axis=-1)\n",
        "    jac = (intersection + smooth) / (sum_ - intersection + smooth)\n",
        "    return jac\n",
        "    \n",
        "def precision(y_true, y_pred):\n",
        "  true_positives = K.sum(K.round(K.clip(y_true * y_pred, 0, 1)))\n",
        "  predicted_positives = K.sum(K.round(K.clip(y_pred, 0, 1)))\n",
        "  precision = true_positives / (predicted_positives + K.epsilon())\n",
        "  return precision\n",
        "\n",
        "def recall(y_true, y_pred):\n",
        "  true_positives = K.sum(K.round(K.clip(y_true * y_pred, 0, 1)))\n",
        "  possible_positives = K.sum(K.round(K.clip(y_true, 0, 1)))\n",
        "  recall = true_positives / (possible_positives + K.epsilon())\n",
        "  return recall\n",
        "\n",
        "\n",
        "def f1(y_true, y_pred):\n",
        "  def recall(y_true, y_pred):        \n",
        "    true_positives = K.sum(K.round(K.clip(y_true * y_pred, 0, 1)))\n",
        "    possible_positives = K.sum(K.round(K.clip(y_true, 0, 1)))\n",
        "    recall = true_positives / (possible_positives + K.epsilon())\n",
        "    return recall\n",
        "\n",
        "  def precision(y_true, y_pred):        \n",
        "    true_positives = K.sum(K.round(K.clip(y_true * y_pred, 0, 1)))\n",
        "    predicted_positives = K.sum(K.round(K.clip(y_pred, 0, 1)))\n",
        "    precision = true_positives / (predicted_positives + K.epsilon())\n",
        "    return precision\n",
        "  precision = precision(y_true, y_pred)\n",
        "  recall = recall(y_true, y_pred)\n",
        "  return 2*((precision*recall)/(precision+recall+K.epsilon()))\n"
      ],
      "execution_count": null,
      "outputs": []
    },
    {
      "cell_type": "code",
      "metadata": {
        "id": "jYFT5K0BhfW2"
      },
      "source": [
        "from keras import backend as K\n",
        "from keras.callbacks import ModelCheckpoint\n",
        "from keras.callbacks import CSVLogger\n",
        "from keras.callbacks import EarlyStopping\n",
        "\n",
        "import tensorflow as tf\n",
        "from tensorflow.keras.optimizers import Adam # - Works\n",
        "from tensorflow.keras.metrics import *\n",
        "\n",
        "NO_OF_TRAINING_IMAGES = len(os.listdir('/content/drive/My Drive/LeafSeg/train_frames/'))\n",
        "NO_OF_VAL_IMAGES = len(os.listdir('/content/drive/My Drive/LeafSeg/val_frames/'))\n",
        "\n",
        "NO_OF_EPOCHS = 80\n",
        "\n",
        "BATCH_SIZE = 8\n",
        "\n",
        "weights_path = '/content/drive/My Drive/LeafSeg/cp.ckpt'\n",
        "\n",
        "opt = Adam(lr=1E-5, beta_1=0.9, beta_2=0.999, epsilon=1e-08)\n",
        "\n",
        "model.compile(loss=dice_coef_loss,\n",
        "              optimizer=opt,\n",
        "              metrics=[dice_coef,iou, precision, recall, f1,specificity,negative_predictive_value,mean_absolute_error,'accuracy'])\n",
        "\n",
        "checkpoint = ModelCheckpoint(filepath=weights_path, monitor=dice_coef, \n",
        "                             verbose=1, save_best_only=True, mode='max')\n",
        "\n",
        "csv_logger = CSVLogger('./log.out', append=True, separator=';')\n",
        "\n",
        "earlystopping = EarlyStopping(monitor = dice_coef, verbose = 1,\n",
        "                              min_delta = 0.05, patience = 3, mode = 'max')\n",
        "\n",
        "callbacks_list = [checkpoint, csv_logger, earlystopping]\n",
        "\n",
        "results = model.fit_generator(train_generator, epochs=NO_OF_EPOCHS, \n",
        "                          steps_per_epoch = (NO_OF_TRAINING_IMAGES//BATCH_SIZE),\n",
        "                          validation_data=val_generator, \n",
        "                          validation_steps=(NO_OF_VAL_IMAGES//BATCH_SIZE), \n",
        "                          callbacks=callbacks_list)\n",
        "\n",
        "model.save('/content/drive/My Drive/LeafSeg/Unet.h5') "
      ],
      "execution_count": null,
      "outputs": []
    },
    {
      "cell_type": "code",
      "metadata": {
        "id": "js-swajUC45G"
      },
      "source": [
        "from keras import backend as K\n",
        "from keras.callbacks import ModelCheckpoint\n",
        "from keras.callbacks import CSVLogger\n",
        "from keras.callbacks import EarlyStopping\n",
        "from tensorflow.keras.optimizers import Adam # - Works\n",
        "import tensorflow as tf\n",
        "from tensorflow.keras.metrics import *\n",
        "\n",
        "opt = Adam(lr=1E-5, beta_1=0.9, beta_2=0.999, epsilon=1e-08)\n",
        "\n",
        "model.compile(loss=dice_coef_loss,\n",
        "              optimizer=opt,\n",
        "              metrics=[dice_coef,iou, precision, recall, f1,specificity,negative_predictive_value,mean_absolute_error,'accuracy'])\n",
        "model.load_weights('/content/drive/MyDrive/LeafSeg/Unet.h5')"
      ],
      "execution_count": null,
      "outputs": []
    },
    {
      "cell_type": "code",
      "metadata": {
        "id": "JW6-ck-2Wcsu"
      },
      "source": [
        "model.load_weights('/content/drive/MyDrive/LeafSeg/Unet.h5')\n",
        "model.evaluate(X_test,Y_test,8)"
      ],
      "execution_count": null,
      "outputs": []
    },
    {
      "cell_type": "code",
      "metadata": {
        "id": "wEoxDioB7vqt"
      },
      "source": [
        "NO_OF_TEST_IMAGES = len(os.listdir('/content/drive/My Drive/LeafSeg/test_frames/'))\n",
        "test_preds1 = model.predict(X_test, 8)\n",
        "print(test_preds1.shape)"
      ],
      "execution_count": null,
      "outputs": []
    },
    {
      "cell_type": "code",
      "metadata": {
        "id": "vGvzfYhYacAe"
      },
      "source": [
        "pred = (test_preds1 >= 0.5).astype(np.uint8)\n",
        "test_img1 = pred[15, :, :,0]\n",
        "plt.imshow(test_img1,cmap='gray')\n",
        "print('Shape: ', test_img1.shape)\n",
        "print('Max pixel value: ', test_img1.max())\n",
        "print('Min pixel value: ', test_img1.min())"
      ],
      "execution_count": null,
      "outputs": []
    },
    {
      "cell_type": "code",
      "metadata": {
        "id": "XzMxaESLlMtl"
      },
      "source": [
        "\n",
        "# set up the canvas for the subplots\n",
        "plt.figure(figsize=(10,10))\n",
        "plt.axis('Off')\n",
        "\n",
        "# Our subplot will contain 3 rows and 3 columns\n",
        "# plt.subplot(nrows, ncols, plot_number)\n",
        "\n",
        "\n",
        "# == row 1 ==\n",
        "\n",
        "# image\n",
        "plt.subplot(3,4,1)\n",
        "img1=X_test[106,:,:,:]\n",
        "plt.imshow(img1)\n",
        "plt.title('Test Image 1', fontsize=14)\n",
        "plt.axis('on')\n",
        "\n",
        "plt.subplot(3,4,5)\n",
        "mask1=Y_test[106,:,:,0]\n",
        "plt.imshow(mask1,cmap='gray')\n",
        "plt.title('Groundtruth 1', fontsize=14)\n",
        "plt.axis('on')\n",
        "\n",
        "plt.subplot(3,4,9)\n",
        "preds_test_thresh1 = (test_preds1 >= 0.5).astype(np.uint8)\n",
        "test_mask1 = preds_test_thresh1[106, :, :,0]\n",
        "plt.imshow(test_mask1,cmap='gray')\n",
        "plt.title('Predicted Mask 1', fontsize=14)\n",
        "plt.axis('on')\n",
        "\n",
        "plt.subplot(3,4,2)\n",
        "img1=X_test[18,:,:,:]\n",
        "plt.imshow(img1)\n",
        "plt.title('Test Image 1', fontsize=14)\n",
        "plt.axis('on')\n",
        "\n",
        "plt.subplot(3,4,6)\n",
        "mask1=Y_test[18,:,:,0]\n",
        "plt.imshow(mask1,cmap='gray')\n",
        "plt.title('Groundtruth 1', fontsize=14)\n",
        "plt.axis('on')\n",
        "\n",
        "plt.subplot(3,4,10)\n",
        "preds_test_thresh1 = (test_preds1 >= 0.5).astype(np.uint8)\n",
        "test_mask1 = preds_test_thresh1[18, :, :,0]\n",
        "plt.imshow(test_mask1,cmap='gray')\n",
        "plt.title('Predicted Mask 1', fontsize=14)\n",
        "plt.axis('on')\n",
        "\n",
        "plt.subplot(3,4,3)\n",
        "img1=X_test[22,:,:,:]\n",
        "plt.imshow(img1)\n",
        "plt.title('Test Image 1', fontsize=14)\n",
        "plt.axis('on')\n",
        "\n",
        "plt.subplot(3,4,7)\n",
        "mask1=Y_test[22,:,:,0]\n",
        "plt.imshow(mask1,cmap='gray')\n",
        "plt.title('Groundtruth 1', fontsize=14)\n",
        "plt.axis('on')\n",
        "\n",
        "plt.subplot(3,4,11)\n",
        "preds_test_thresh1 = (test_preds1 >= 0.5).astype(np.uint8)\n",
        "test_mask1 = preds_test_thresh1[22, :, :,0]\n",
        "plt.imshow(test_mask1,cmap='gray')\n",
        "plt.title('Predicted Mask 1', fontsize=14)\n",
        "plt.axis('on')\n",
        "\n",
        "plt.subplot(3,4,4)\n",
        "img1=X_test[4,:,:,:]\n",
        "plt.imshow(img1)\n",
        "plt.title('Test Image 1', fontsize=14)\n",
        "plt.axis('on')\n",
        "\n",
        "plt.subplot(3,4,8)\n",
        "mask1=Y_test[4,:,:,0]\n",
        "plt.imshow(mask1,cmap='gray')\n",
        "plt.title('Groundtruth 1', fontsize=14)\n",
        "plt.axis('on')\n",
        "\n",
        "plt.subplot(3,4,12)\n",
        "preds_test_thresh1 = (test_preds1 >= 0.5).astype(np.uint8)\n",
        "test_mask1 = preds_test_thresh1[4, :, :,0]\n",
        "plt.imshow(test_mask1,cmap='gray')\n",
        "plt.title('Predicted Mask 1', fontsize=14)\n",
        "plt.axis('on')"
      ],
      "execution_count": null,
      "outputs": []
    },
    {
      "cell_type": "code",
      "metadata": {
        "id": "DSjkBQSmC9Vp"
      },
      "source": [
        "\n",
        "plt.figure(figsize=(8, 8))\n",
        "plt.subplot(1, 2, 1)\n",
        "plt.plot(epochs_range, coef, label='Training Dice Coefficient')\n",
        "plt.plot(epochs_range, val_coef, label='Validation Dice Coefficient')\n",
        "plt.legend(loc='lower right')\n",
        "plt.title('Training and Validation Dice Coefficient')\n",
        "\n",
        "plt.subplot(1, 2, 2)\n",
        "plt.plot(epochs_range, loss, label='Training Loss')\n",
        "plt.plot(epochs_range, val_loss, label='Validation Loss')\n",
        "plt.legend(loc='upper right')\n",
        "plt.title('Training and Validation Loss')\n",
        "plt.show()"
      ],
      "execution_count": null,
      "outputs": []
    }
  ]
}